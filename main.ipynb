{
 "cells": [
  {
   "cell_type": "code",
   "execution_count": 2,
   "metadata": {},
   "outputs": [
    {
     "name": "stdout",
     "output_type": "stream",
     "text": [
      "[0.2  0.3  0.45 0.7  0.8 ]\n"
     ]
    }
   ],
   "source": [
    "import numpy as np\n",
    "import matplotlib.pyplot as plt\n",
    "\n",
    "# Passo 1: Definindo os vetores e a matriz de regressão\n",
    "# 1a. Vetor de saídas desejadas Y (5x1)\n",
    "Y = np.array([0.2, 0.3, 0.45, 0.7, 0.8])\n",
    "print(Y)"
   ]
  },
  {
   "cell_type": "code",
   "execution_count": 3,
   "metadata": {},
   "outputs": [
    {
     "name": "stdout",
     "output_type": "stream",
     "text": [
      "[0.  0.1 0.2 0.3 0.4]\n"
     ]
    }
   ],
   "source": [
    "# 1b. Vetor de entradas aplicadas X (5x1)\n",
    "X = np.array([0, 0.1, 0.2, 0.3, 0.4])\n",
    "print(X)"
   ]
  },
  {
   "cell_type": "code",
   "execution_count": 4,
   "metadata": {},
   "outputs": [
    {
     "name": "stdout",
     "output_type": "stream",
     "text": [
      "[[0.  1. ]\n",
      " [0.1 1. ]\n",
      " [0.2 1. ]\n",
      " [0.3 1. ]\n",
      " [0.4 1. ]]\n"
     ]
    }
   ],
   "source": [
    "# 1c. Matriz de regressão XX (5x2)\n",
    "XX = np.column_stack((X, np.ones(X.shape[0])))\n",
    "print(XX)"
   ]
  }
 ],
 "metadata": {
  "kernelspec": {
   "display_name": "Python 3",
   "language": "python",
   "name": "python3"
  },
  "language_info": {
   "codemirror_mode": {
    "name": "ipython",
    "version": 3
   },
   "file_extension": ".py",
   "mimetype": "text/x-python",
   "name": "python",
   "nbconvert_exporter": "python",
   "pygments_lexer": "ipython3",
   "version": "3.12.6"
  }
 },
 "nbformat": 4,
 "nbformat_minor": 2
}
